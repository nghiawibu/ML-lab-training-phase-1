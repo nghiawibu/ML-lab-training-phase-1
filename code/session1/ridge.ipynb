{
 "cells": [
  {
   "cell_type": "code",
   "execution_count": 1,
   "metadata": {},
   "outputs": [],
   "source": [
    "import pandas as pd\n",
    "import numpy as np"
   ]
  },
  {
   "cell_type": "code",
   "execution_count": 2,
   "metadata": {},
   "outputs": [],
   "source": [
    "def get_data(path):\n",
    "    raw_data = []\n",
    "    with open(path,\"r\") as f:\n",
    "        for line in f:\n",
    "            temp = [float(i) for i in line.split()]\n",
    "            raw_data.append(temp[1:])\n",
    "    raw_data=np.array(raw_data)\n",
    "    X = raw_data[:,:-1]\n",
    "    Y = raw_data[:,-1]\n",
    "    return X,Y"
   ]
  },
  {
   "cell_type": "code",
   "execution_count": 3,
   "metadata": {},
   "outputs": [],
   "source": [
    "def normalize_and_add_ones(X):\n",
    "    X = np.array(X)\n",
    "    X_max = np.array([[np.amax(X[:,col_id]) \n",
    "                        for col_id in range(X.shape[1])]\n",
    "                        for _ in range (X.shape[0])])\n",
    "    X_min = np.array([[np.amin(X[:,col_id]) \n",
    "                        for col_id in range(X.shape[1])]\n",
    "                        for _ in range (X.shape[0])])\n",
    "    X_normalized = (X-X_min)/(X_max-X_min)\n",
    "    ones = np.array([[1] for _ in range(X_normalized.shape[0])])\n",
    "    return np.column_stack((ones, X_normalized))"
   ]
  },
  {
   "cell_type": "code",
   "execution_count": 4,
   "metadata": {},
   "outputs": [],
   "source": [
    "class RidgeRegression:\n",
    "    def __init__(self):\n",
    "        return \n",
    "    def fit(self, X_train, Y_train, LAMBDA):\n",
    "        assert len(X_train.shape) == 2 and X_train.shape[0] == Y_train.shape[0]\n",
    "        W = np.linalg.inv(X_train.transpose().dot(X_train)+LAMBDA*np.identity(X_train.shape[1])).dot(X_train.transpose()).dot(Y_train)\n",
    "        return W\n",
    "    # def fit_gradient_descent(self, X_train, Y_train, LAMBDA, learning_rate, max_num_epoch=100, batch_size=128)\n",
    "\n",
    "    def predict(self, W, X_new):\n",
    "        X_new = np.array(X_new)\n",
    "        Y_new = X_new.dot(W)\n",
    "        return Y_new\n",
    "    def compute_RSS(self, Y_new, Y_predicted):\n",
    "        n = Y_new.shape[0]\n",
    "        res = np.sum((Y_new-Y_predicted)**2)/n\n",
    "        return res\n",
    "    def get_the_best_lambda(self, X_train, Y_train):\n",
    "        def cross_validation(num_folds, LAMBDA):\n",
    "            row_ids = np.array(range(X_train.shape[0]))\n",
    "            valid_ids = np.split(row_ids[:len(row_ids)-len(row_ids)%num_folds],num_folds)\n",
    "            valid_ids[-1] = np.append(valid_ids[-1],row_ids[len(row_ids)-len(row_ids)%num_folds:])\n",
    "            train_ids = [[k for k in row_ids if k not in valid_ids[i]] for i in range(num_folds)]\n",
    "            aver_RSS = 0\n",
    "            for i in range(num_folds):\n",
    "                valid_part = {'X': X_train[valid_ids[i]], 'Y':Y_train[valid_ids[i]]}\n",
    "                train_part = {'X': X_train[train_ids[i]], 'Y':Y_train[train_ids[i]]}\n",
    "                W = self.fit(train_part['X'], train_part['Y'], LAMBDA)\n",
    "                Y_predicted = self.predict(W, valid_part['X'])\n",
    "                aver_RSS += self.compute_RSS(valid_part['Y'], Y_predicted)\n",
    "            return aver_RSS/num_folds\n",
    "\n",
    "        def range_scan(best_LAMBDA, minimum_RSS, LAMBDA_values):\n",
    "            for current_LAMBDA in LAMBDA_values:\n",
    "                aver_RSS = cross_validation(num_folds=5,LAMBDA=current_LAMBDA)\n",
    "                if aver_RSS < minimum_RSS:\n",
    "                    best_LAMBDA = current_LAMBDA\n",
    "                    minimum_RSS = aver_RSS\n",
    "            return best_LAMBDA,minimum_RSS\n",
    "        best_LAMBDA,minimum_RSS = range_scan(best_LAMBDA=0,minimum_RSS=10000**2,LAMBDA_values=range(50))\n",
    "        LAMBDA_values = [k*1./1000 for k in range(\n",
    "                max(0, (best_LAMBDA-1) * 1000), (best_LAMBDA+1) * 1000, 1)\n",
    "                        ]\n",
    "        best_LAMBDA, minimum_RSS = range_scan(best_LAMBDA=best_LAMBDA, minimum_RSS=minimum_RSS, LAMBDA_values=LAMBDA_values)\n",
    "        return best_LAMBDA"
   ]
  },
  {
   "cell_type": "code",
   "execution_count": 6,
   "metadata": {},
   "outputs": [
    {
     "name": "stdout",
     "output_type": "stream",
     "text": [
      "Best LAMBDA: 0.002\n",
      "1527.0698078029754\n"
     ]
    }
   ],
   "source": [
    "if __name__ == '__main__':\n",
    "    X,Y = get_data(\"../datasets/death_rate_data.txt\")\n",
    "    X = normalize_and_add_ones(X)\n",
    "    X_train, Y_train = X[:50], Y[:50]\n",
    "    X_test, Y_test = X[50:], Y[50:]\n",
    "\n",
    "    ridge_regression = RidgeRegression()\n",
    "    best_LAMBDA = ridge_regression.get_the_best_lambda(X_train, Y_train)\n",
    "    print(\"Best LAMBDA: {}\".format(best_LAMBDA))\n",
    "    W_learned = ridge_regression.fit(\n",
    "        X_train=X_train, Y_train=Y_train, LAMBDA=best_LAMBDA\n",
    "    )\n",
    "    Y_predicted = ridge_regression.predict(W=W_learned,X_new=X_test)\n",
    "    print(ridge_regression.compute_RSS(Y_new=Y_test,Y_predicted=Y_predicted))\n",
    "    \n"
   ]
  }
 ],
 "metadata": {
  "kernelspec": {
   "display_name": "Python 3.9.7 ('base')",
   "language": "python",
   "name": "python3"
  },
  "language_info": {
   "codemirror_mode": {
    "name": "ipython",
    "version": 3
   },
   "file_extension": ".py",
   "mimetype": "text/x-python",
   "name": "python",
   "nbconvert_exporter": "python",
   "pygments_lexer": "ipython3",
   "version": "3.9.7"
  },
  "orig_nbformat": 4,
  "vscode": {
   "interpreter": {
    "hash": "5179d32cf6ec497baf3f8a3ef987cc77c5d2dc691fdde20a56316522f61a7323"
   }
  }
 },
 "nbformat": 4,
 "nbformat_minor": 2
}
