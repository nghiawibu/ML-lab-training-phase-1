{
 "cells": [
  {
   "cell_type": "code",
   "execution_count": 1,
   "metadata": {},
   "outputs": [],
   "source": [
    "from collections import defaultdict\n",
    "import numpy as np\n",
    "from sklearn.cluster import KMeans\n",
    "from scipy.sparse import csr_matrix\n",
    "from sklearn.svm import LinearSVC"
   ]
  },
  {
   "cell_type": "code",
   "execution_count": 7,
   "metadata": {},
   "outputs": [],
   "source": [
    "def load_data(data_path):\n",
    "    def sparse_to_dense(sparse_r_d, vocab_size):\n",
    "        r_d = [0.0 for _ in range(vocab_size)]\n",
    "        \n",
    "        indices_and_tfidfs = sparse_r_d.split()\n",
    "        for index_and_tfidf in indices_and_tfidfs:\n",
    "            index = int(index_and_tfidf.split(':')[0])\n",
    "            tfidf = float(index_and_tfidf.split(':')[1])\n",
    "            r_d[index] = tfidf\n",
    "        return np.array(r_d)    \n",
    "            \n",
    "    with open(data_path) as f:\n",
    "        d_lines = f.read().splitlines()\n",
    "    with open(\"../datasets/20news-bydate/words_idfs.txt\") as f:\n",
    "        vocab_size = len(f.read().splitlines())\n",
    "\n",
    "    labels = []\n",
    "    data = []\n",
    "    label_count = defaultdict(int)\n",
    "    for data_id, d in enumerate(d_lines):\n",
    "        features = d.split('<fff>')\n",
    "        label, doc_id = int(features[0]), int(features[1])\n",
    "        label_count[label] += 1\n",
    "        r_d = sparse_to_dense(sparse_r_d=features[2], vocab_size=vocab_size)\n",
    "        data.append(r_d)\n",
    "        labels.append(label)\n",
    "    \n",
    "    return data, labels"
   ]
  },
  {
   "cell_type": "code",
   "execution_count": 15,
   "metadata": {},
   "outputs": [],
   "source": [
    "def compute_accuracy(predicted_y, expected_y):\n",
    "    matches = np.equal(predicted_y, expected_y)\n",
    "    accuracy = np.sum(matches.astype(float))/predicted_y.size\n",
    "    return accuracy"
   ]
  },
  {
   "cell_type": "code",
   "execution_count": 11,
   "metadata": {},
   "outputs": [],
   "source": [
    "def clustering_with_KMeans():\n",
    "    train_X, train_y = load_data(data_path='../datasets/20news-bydate/train_tf_idf.txt')\n",
    "    #use csr_matrix to create a sparse matrix with efficient row slicing\n",
    "    X = csr_matrix(train_X)\n",
    "    print ('=========')\n",
    "    kmeans = KMeans(\n",
    "        n_clusters=20,\n",
    "        init='random',\n",
    "        n_init=5,\n",
    "        tol=1e-3,\n",
    "        random_state=2018\n",
    "    ).fit(X)\n",
    "    labels = kmeans.labels_\n",
    "    training_accuracy = compute_accuracy(predicted_y=labels, expected_y=train_y)\n",
    "    print(\"Training accuracy: \", training_accuracy)\n",
    "\n",
    "    test_X, test_y = load_data(data_path='../datasets/20news-bydate/test_tf_idf.txt')\n",
    "    predicted_y = kmeans.predict(test_X)\n",
    "    accuracy = compute_accuracy(predicted_y=predicted_y, expected_y=test_y)\n",
    "    print(\"Accuracy: \",accuracy)\n",
    "    "
   ]
  },
  {
   "cell_type": "code",
   "execution_count": 18,
   "metadata": {},
   "outputs": [
    {
     "name": "stdout",
     "output_type": "stream",
     "text": [
      "=========\n",
      "Training accuracy:  0.06213540745978434\n",
      "Accuracy:  0.05164630908125332\n"
     ]
    }
   ],
   "source": [
    "clustering_with_KMeans()"
   ]
  },
  {
   "cell_type": "code",
   "execution_count": 13,
   "metadata": {},
   "outputs": [],
   "source": [
    "def classifying_with_linear_SVMs():\n",
    "    train_X, train_y = load_data(data_path='../datasets/20news-bydate/train_tf_idf.txt')\n",
    "    classifier = LinearSVC(\n",
    "        C=10.0, #penalty coefficients\n",
    "        tol=0.001, #tolerance for stopping data\n",
    "        verbose=True #whether to print out logs or not \n",
    "    )\n",
    "    classifier.fit(train_X,train_y)\n",
    "    \n",
    "    test_X, test_y = load_data(data_path='../datasets/20news-bydate/test_tf_idf.txt')\n",
    "    predicted_y = classifier.predict(test_X)\n",
    "    accuracy = compute_accuracy(predicted_y=predicted_y, expected_y=test_y)\n",
    "    print(\"Accuracy: \",accuracy)"
   ]
  },
  {
   "cell_type": "code",
   "execution_count": 17,
   "metadata": {},
   "outputs": [
    {
     "name": "stdout",
     "output_type": "stream",
     "text": [
      "[LibLinear]Accuracy:  0.048194370685077\n"
     ]
    }
   ],
   "source": [
    "classifying_with_linear_SVMs()"
   ]
  }
 ],
 "metadata": {
  "kernelspec": {
   "display_name": "Python 3.9.7 ('base')",
   "language": "python",
   "name": "python3"
  },
  "language_info": {
   "codemirror_mode": {
    "name": "ipython",
    "version": 3
   },
   "file_extension": ".py",
   "mimetype": "text/x-python",
   "name": "python",
   "nbconvert_exporter": "python",
   "pygments_lexer": "ipython3",
   "version": "3.9.7"
  },
  "orig_nbformat": 4,
  "vscode": {
   "interpreter": {
    "hash": "5179d32cf6ec497baf3f8a3ef987cc77c5d2dc691fdde20a56316522f61a7323"
   }
  }
 },
 "nbformat": 4,
 "nbformat_minor": 2
}
