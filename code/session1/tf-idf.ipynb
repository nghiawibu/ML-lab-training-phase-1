{
 "cells": [
  {
   "cell_type": "code",
   "execution_count": 1,
   "metadata": {},
   "outputs": [],
   "source": [
    "import numpy as np\n",
    "import pandas as pd\n",
    "import os\n",
    "import re"
   ]
  },
  {
   "cell_type": "code",
   "execution_count": 2,
   "metadata": {},
   "outputs": [],
   "source": [
    "from nltk.corpus import stopwords\n",
    "stop_words = set(stopwords.words('english'))"
   ]
  },
  {
   "cell_type": "code",
   "execution_count": 3,
   "metadata": {},
   "outputs": [],
   "source": [
    "path = '../datasets/20news-bydate/'\n",
    "dirs = [path + dir_name + '/'\n",
    "        for dir_name in os.listdir(path)\n",
    "        if not os.path.isfile(path + dir_name)]\n",
    "train_dir, test_dir = (dirs[0], dirs[1]) if 'train' in dirs[0] \\\n",
    "                        else (dirs[1],dirs[0])\n",
    "list_newsgroups = [newsgroup for newsgroup in os.listdir(train_dir)]\n",
    "list_newsgroups.sort()"
   ]
  },
  {
   "cell_type": "code",
   "execution_count": 4,
   "metadata": {},
   "outputs": [],
   "source": [
    "from nltk.stem.porter import PorterStemmer\n",
    "stemmer = PorterStemmer()\n",
    "\n",
    "def collect_data_from(parent_dir, newsgroup_list):\n",
    "    data = []\n",
    "    for group_id, newsgroup in enumerate(newsgroup_list):\n",
    "        label = group_id\n",
    "        dir_path = parent_dir + '/' + newsgroup + '/'\n",
    "        files = [(filename, dir_path + filename)\n",
    "                for filename in os.listdir(dir_path) \n",
    "                if os.path.isfile(dir_path + filename)]\n",
    "        files.sort()\n",
    "        for filename, filepath in files:\n",
    "            with open(filepath) as f:\n",
    "                text = f.read().lower()\n",
    "                #remove stop words then stem remaining words\n",
    "                words = [stemmer.stem(word)\n",
    "                        for word in re.split('\\W+', text)\n",
    "                        if word not in stop_words]\n",
    "                #combine remaining words\n",
    "                content = ' '.join(words)\n",
    "                assert len(content.splitlines())==1\n",
    "                data.append(str(label) + '<fff>' + \n",
    "                            filename + '<fff>' + content)\n",
    "    return data\n",
    "\n",
    "train_data = collect_data_from(\n",
    "    parent_dir=train_dir,\n",
    "    newsgroup_list=list_newsgroups\n",
    ")\n",
    "test_data = collect_data_from(\n",
    "    parent_dir=test_dir,\n",
    "    newsgroup_list=list_newsgroups\n",
    ")"
   ]
  },
  {
   "cell_type": "code",
   "execution_count": 5,
   "metadata": {},
   "outputs": [],
   "source": [
    "full_data = train_data + test_data\n",
    "with open('../datasets/20news-bydate/20news-train-processed.txt','w') as f:\n",
    "    f.write('\\n'.join(train_data))\n",
    "with open('../datasets/20news-bydate/20news-test-processed.txt','w') as f:\n",
    "    f.write('\\n'.join(test_data))\n",
    "with open('../datasets/20news-bydate/20news-full-processed.txt','w') as f:\n",
    "    f.write('\\n'.join(full_data))"
   ]
  },
  {
   "cell_type": "code",
   "execution_count": 6,
   "metadata": {},
   "outputs": [],
   "source": [
    "from collections import defaultdict\n",
    "def generate_vocabulary(data_path):\n",
    "    def compute_idf(df, corpus_size):\n",
    "        assert df > 0\n",
    "        return np.log10(corpus_size * 1. / df)\n",
    "    with open(data_path) as f:\n",
    "        lines = f.read().splitlines()\n",
    "    doc_count = defaultdict(int)\n",
    "    corpus_size = len(lines)\n",
    "\n",
    "    for line in lines:\n",
    "        features = line.split('<fff>')\n",
    "        text = features[-1]\n",
    "        words = list(set(text.split()))\n",
    "        for word in words:\n",
    "            doc_count[word] += 1\n",
    "\n",
    "    words_idfs = [(word, compute_idf(document_freq, corpus_size)) \n",
    "                for word, document_freq in \n",
    "                zip(doc_count.keys(), doc_count.values())\n",
    "                if document_freq > 10 and not word.isdigit()]  \n",
    "    words_idfs.sort(key=lambda idf: -idf[1])  \n",
    "    print('Vocabulary size: {}'.format(len(words_idfs)))\n",
    "    with open('../datasets/20news-bydate/words_idfs.txt','w') as f:\n",
    "        f.write('\\n'.join([word + '<fff>' + str(idf) for word, idf in words_idfs]))\n",
    "\n",
    "def get_tf_idf(data_path):\n",
    "    with open('../datasets/20news-bydate/words_idfs.txt') as f:\n",
    "        words_idfs = [(line.split('<fff>')[0], float(line.split('<fff>')[1])) for line in f.read().splitlines()]\n",
    "        word_IDs = dict([(word, index) for index, (word, idf) in enumerate(words_idfs)])\n",
    "        idfs = dict(words_idfs)\n",
    "\n",
    "    with open(data_path) as f:\n",
    "        documents = [\n",
    "            (int(line.split('<fff>')[0]),\n",
    "            int(line.split('<fff>')[1]),\n",
    "            line.split('<fff>')[2])\n",
    "            for line in f.read().splitlines()\n",
    "        ]\n",
    "        data_tf_idf = []\n",
    "        for document in documents:\n",
    "            label, doc_id, text = document\n",
    "            words = [word for word in text.split() if word in idfs]\n",
    "            word_set = list(set(words))\n",
    "            max_term_freq = max([words.count(word) for word in word_set])\n",
    "            words_tfidfs = []\n",
    "            sum_squares = 0.0\n",
    "            for word in word_set:\n",
    "                term_freq = words.count(word)\n",
    "                tf_idf_value = term_freq * 1. / max_term_freq * idfs[word]\n",
    "                words_tfidfs.append((word_IDs[word], tf_idf_value))\n",
    "                sum_squares += tf_idf_value ** 2\n",
    "            \n",
    "            words_tfidfs_normalized = [str(index) + ':'\n",
    "                                        + str(tf_idf_value/np.sqrt(sum_squares))\n",
    "                                        for index, tf_idf_value in words_tfidfs]\n",
    "            \n",
    "            sparse_rep = ' '.join(words_tfidfs_normalized)\n",
    "            data_tf_idf.append((label, doc_id, sparse_rep))\n",
    "    \n",
    "    return data_tf_idf\n"
   ]
  },
  {
   "cell_type": "code",
   "execution_count": 7,
   "metadata": {},
   "outputs": [
    {
     "name": "stdout",
     "output_type": "stream",
     "text": [
      "Vocabulary size: 10290\n",
      "Vocabulary size: 7767\n",
      "Vocabulary size: 14212\n"
     ]
    }
   ],
   "source": [
    "generate_vocabulary('../datasets/20news-bydate/20news-train-processed.txt')\n",
    "train_tf_idf = get_tf_idf('../datasets/20news-bydate/20news-train-processed.txt')\n",
    "with open('../datasets/20news-bydate/train_tf_idf.txt','w') as f:\n",
    "    f.write('\\n'.join(str(data[0])+'<fff>'+str(data[1])+'<fff>'+str(data[2]) for data in train_tf_idf))\n",
    "generate_vocabulary('../datasets/20news-bydate/20news-test-processed.txt')\n",
    "test_tf_idf = get_tf_idf('../datasets/20news-bydate/20news-test-processed.txt')\n",
    "with open('../datasets/20news-bydate/test_tf_idf.txt','w') as f:\n",
    "    f.write('\\n'.join(str(data[0])+'<fff>'+str(data[1])+'<fff>'+str(data[2]) for data in test_tf_idf))\n",
    "generate_vocabulary('../datasets/20news-bydate/20news-full-processed.txt')\n",
    "data_tf_idf = get_tf_idf('../datasets/20news-bydate/20news-full-processed.txt')\n",
    "with open('../datasets/20news-bydate/data_tf_idf.txt','w') as f:\n",
    "    f.write('\\n'.join(str(data[0])+'<fff>'+str(data[1])+'<fff>'+str(data[2]) for data in data_tf_idf))"
   ]
  }
 ],
 "metadata": {
  "kernelspec": {
   "display_name": "Python 3.9.7 ('base')",
   "language": "python",
   "name": "python3"
  },
  "language_info": {
   "codemirror_mode": {
    "name": "ipython",
    "version": 3
   },
   "file_extension": ".py",
   "mimetype": "text/x-python",
   "name": "python",
   "nbconvert_exporter": "python",
   "pygments_lexer": "ipython3",
   "version": "3.9.7"
  },
  "orig_nbformat": 4,
  "vscode": {
   "interpreter": {
    "hash": "5179d32cf6ec497baf3f8a3ef987cc77c5d2dc691fdde20a56316522f61a7323"
   }
  }
 },
 "nbformat": 4,
 "nbformat_minor": 2
}
