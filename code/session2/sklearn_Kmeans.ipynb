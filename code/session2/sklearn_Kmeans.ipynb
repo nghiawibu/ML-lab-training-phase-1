{
 "cells": [
  {
   "cell_type": "code",
   "execution_count": null,
   "metadata": {},
   "outputs": [],
   "source": [
    "from collections import defaultdict\n",
    "import numpy as np"
   ]
  },
  {
   "cell_type": "code",
   "execution_count": null,
   "metadata": {},
   "outputs": [],
   "source": [
    "class Member:\n",
    "    def __init__(self, r_d, label=None, doc_id=None):\n",
    "        self._r_d = r_d\n",
    "        self._label = label\n",
    "        self._doc_id = doc_id\n",
    "\n",
    "class Cluster:\n",
    "    def __init__(self):\n",
    "        self._centroid = None \n",
    "        self._members = []\n",
    "    def reset_members(self):\n",
    "        self._members = []\n",
    "    def set_centroid(self, new_centroid):\n",
    "        self._centroid = new_centroid\n",
    "    def add_members(self, new_member):\n",
    "        self._members.append(new_member)"
   ]
  },
  {
   "cell_type": "code",
   "execution_count": null,
   "metadata": {},
   "outputs": [],
   "source": [
    "def load_data(self, path):\n",
    "    def sparse_to_dense(sparse_r_d, vocab_size):\n",
    "        r_d = [0.0 for _ in range(vocab_size)]\n",
    "        \n",
    "        indices_and_tfidfs = sparse_r_d.split()\n",
    "        for index_and_tfidf in indices_and_tfidfs:\n",
    "            index = int(index_and_tfidf.split(':')[0])\n",
    "            tfidf = float(index_and_tfidf.split(':')[1])\n",
    "            r_d[index] = tfidf\n",
    "        return np.array(r_d)    \n",
    "            \n",
    "    with open(path + \"data_tf_idf.txt\") as f:\n",
    "        data_lines = f.read().splitlines()\n",
    "    with open(path + \"words_idfs.txt\") as f:\n",
    "        vocab_size = len(f.read().splitlines())\n",
    "\n",
    "    self._data = []\n",
    "    self._label_count = defaultdict(int)\n",
    "    for data_id, d in enumerate(data_lines):\n",
    "        features = d.split('<fff>')\n",
    "        label, doc_id = int(features[0]), int(features[1])\n",
    "        self._label_count[label] += 1\n",
    "        r_d = sparse_to_dense(sparse_r_d=features[2], vocab_size=vocab_size)\n",
    "\n",
    "        self._data.append(Member(r_d=r_d, label=label, doc_id=doc_id))"
   ]
  }
 ],
 "metadata": {
  "kernelspec": {
   "display_name": "Python 3.9.7 ('base')",
   "language": "python",
   "name": "python3"
  },
  "language_info": {
   "name": "python",
   "version": "3.9.7"
  },
  "orig_nbformat": 4,
  "vscode": {
   "interpreter": {
    "hash": "5179d32cf6ec497baf3f8a3ef987cc77c5d2dc691fdde20a56316522f61a7323"
   }
  }
 },
 "nbformat": 4,
 "nbformat_minor": 2
}
